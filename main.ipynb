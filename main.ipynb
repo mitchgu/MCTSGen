{
 "cells": [
  {
   "cell_type": "code",
   "execution_count": 1,
   "metadata": {},
   "outputs": [
    {
     "name": "stderr",
     "output_type": "stream",
     "text": [
      "/home/mitchgu/.pyenv/versions/3.6.3/lib/python3.6/importlib/_bootstrap.py:219: RuntimeWarning: compiletime version 3.5 of module 'tensorflow.python.framework.fast_tensor_util' does not match runtime version 3.6\n",
      "  return f(*args, **kwds)\n"
     ]
    }
   ],
   "source": [
    "from quadtree import Board\n",
    "import tensorflow as tf\n",
    "# from model import DCGAN\n",
    "import numpy as np\n",
    "import os\n",
    "from mcts_alphaZero import Game\n",
    "\n",
    "import matplotlib.pyplot as plt\n",
    "%matplotlib inline\n",
    "%load_ext autoreload\n",
    "%autoreload 2"
   ]
  },
  {
   "cell_type": "markdown",
   "metadata": {},
   "source": [
    "# Load dataset and declare consts"
   ]
  },
  {
   "cell_type": "code",
   "execution_count": 12,
   "metadata": {},
   "outputs": [],
   "source": [
    "model_filename = \"mnist.model.pb\"\n",
    "\n",
    "params = {\n",
    "    'max_steps': 20000,\n",
    "    'batch_size': 50,\n",
    "    'log_dir': 'logs',\n",
    "    'log_interval': 100, \n",
    "    'checkpoint_interval': 500\n",
    "}\n",
    "data_dir = \"./data/mnist\"\n",
    "\n",
    "N = 50000\n",
    "\n",
    "fd = open(os.path.join(data_dir,'th-train-images-idx3-ubyte'))\n",
    "loaded = np.fromfile(file=fd,dtype=np.uint8)\n",
    "trX = loaded[16:].reshape((60000,28,28,1)).astype(np.float)[:N]\n",
    "\n",
    "# fd = open(os.path.join(data_dir,'train-labels-idx1-ubyte'))\n",
    "# loaded = np.fromfile(file=fd,dtype=np.uint8)\n",
    "# trY = loaded[8:].reshape((60000)).astype(np.float)\n",
    "\n",
    "# fd = open(os.path.join(data_dir,'th-t10k-images-idx3-ubyte'))\n",
    "# loaded = np.fromfile(file=fd,dtype=np.uint8)\n",
    "# teX = loaded[16:].reshape((10000,28,28,1)).astype(np.float)\n",
    "\n",
    "# fd = open(os.path.join(data_dir,'t10k-labels-idx1-ubyte'))\n",
    "# loaded = np.fromfile(file=fd,dtype=np.uint8)\n",
    "# teY = loaded[8:].reshape((10000)).astype(np.float)\n",
    "\n",
    "# trY = np.asarray(trY)\n",
    "# teY = np.asarray(teY)\n",
    "\n",
    "trY = np.zeros((N, 10))\n",
    "trY[:,0] = 1\n",
    "\n",
    "fakeX = np.load('generation0.npy')[:N]\n",
    "fakeY = np.zeros((N, 10))\n",
    "fakeY[:,1] = 1\n",
    "\n",
    "X = np.concatenate((trX, fakeX), axis=0)/255.\n",
    "y = np.concatenate((trY, fakeY)).astype(np.int)\n",
    "#np.concatenate((trY, teY), axis=0).astype(np.int)\n",
    "\n",
    "seed = 547\n",
    "np.random.seed(seed)\n",
    "np.random.shuffle(X)\n",
    "np.random.seed(seed)\n",
    "np.random.shuffle(y)\n",
    "\n",
    "# y_vec = np.zeros((len(y), self.y_dim), dtype=np.float)\n",
    "# for i, label in enumerate(y):\n",
    "#   y_vec[i,y[i]] = 1.0\n",
    "\n",
    "# return X/255.,y\n",
    "\n",
    "training_img = X[:40000]\n",
    "val_img = X[:10000]\n",
    "\n",
    "training_labels = y[:40000]\n",
    "val_labels = y[:10000]"
   ]
  },
  {
   "cell_type": "code",
   "execution_count": 11,
   "metadata": {},
   "outputs": [],
   "source": [
    "def get_inference_graph(model_filename):\n",
    "    inference_graph = tf.Graph()\n",
    "    with inference_graph.as_default():\n",
    "        with tf.gfile.FastGFile(model_filename, 'rb') as f:\n",
    "            graph_def = tf.GraphDef()\n",
    "            graph_def.ParseFromString(f.read())\n",
    "            _ = tf.import_graph_def(graph_def, name=\"\")\n",
    "            \n",
    "    return inference_graph\n",
    "\n",
    "def run_inference(model_filename, images, params):\n",
    "    inference_graph = get_inference_graph(model_filename)\n",
    "    images_node = inference_graph.get_operation_by_name('images').outputs[0]\n",
    "#     train_img = inference_graph.get_operation_by_name('mod_img').outputs[0]\n",
    "    inference_node = inference_graph.get_operation_by_name('inference').outputs[0]\n",
    "    \n",
    "    inference = np.zeros((images.shape[0], 10))\n",
    "    num_batches = images.shape[0] // params['batch_size']\n",
    "    \n",
    "    \n",
    "    # Run a single step with \n",
    "    with tf.Session(graph=inference_graph) as sess:   \n",
    "        for step in range(num_batches):\n",
    "            begin = step*params['batch_size']\n",
    "            end = begin + params['batch_size']\n",
    "            feed_dict = { images_node: images[begin:end]}\n",
    "            inference[begin:end] += sess.run(inference_node, feed_dict=feed_dict)\n",
    "    inferred_labels = np.argmax(inference, axis=1)\n",
    "\n",
    "    inferred_labels_one_hot = np.zeros((inferred_labels.shape[0], 10))\n",
    "    inferred_labels_one_hot[np.arange(inferred_labels.shape[0]), inferred_labels] = 1\n",
    "\n",
    "    return inference\n"
   ]
  },
  {
   "cell_type": "code",
   "execution_count": 5,
   "metadata": {},
   "outputs": [
    {
     "data": {
      "text/plain": [
       "array([[ 12.88483334,   1.89818001,  -6.01280403, ...,  -5.77380371,\n",
       "         -6.34031343,  -6.647964  ],\n",
       "       [ 12.39700699,   0.67696643,  -5.41423273, ...,  -4.94531631,\n",
       "         -5.80711555,  -6.0858531 ],\n",
       "       [ 12.69307613,   1.37977624,  -5.62784624, ...,  -5.2978158 ,\n",
       "         -5.91984463,  -6.28190136],\n",
       "       ..., \n",
       "       [ 13.50880146,   1.25019026,  -6.16577291, ...,  -5.68382788,\n",
       "         -6.66343212,  -6.83774137],\n",
       "       [ -5.65323639,  24.46416855,  -8.57912254, ...,  -8.18227959,\n",
       "         -7.40164948,  -8.15728569],\n",
       "       [ 14.17021942,   0.5255776 ,  -6.12971401, ...,  -5.89715576,\n",
       "         -6.59779835,  -6.88846874]])"
      ]
     },
     "execution_count": 5,
     "metadata": {},
     "output_type": "execute_result"
    }
   ],
   "source": [
    "run_inference(model_filename, val_img, params)"
   ]
  },
  {
   "cell_type": "code",
   "execution_count": 9,
   "metadata": {},
   "outputs": [],
   "source": [
    "def show(img):\n",
    "    plt.figure()\n",
    "    plt.imshow(img, cmap=\"Greys_r\",vmin=0, vmax=255)"
   ]
  },
  {
   "cell_type": "code",
   "execution_count": 6,
   "metadata": {},
   "outputs": [],
   "source": [
    "def policy_wrapper(board):\n",
    "    samples = np.ones((50,28,28,1))\n",
    "    samples[:,:,:,0] = board.data/255.\n",
    "\n",
    "    r = run_inference(model_filename, samples, params)\n",
    "    return np.mean(r[:,0] - r[:,1]), 0"
   ]
  },
  {
   "cell_type": "code",
   "execution_count": 16,
   "metadata": {
    "scrolled": true
   },
   "outputs": [
    {
     "name": "stdout",
     "output_type": "stream",
     "text": [
      "6.43855667114\n"
     ]
    }
   ],
   "source": [
    "image = Board(28,28)\n",
    "game = Game(policy_wrapper, 1, 100)\n",
    "print(policy_wrapper(image)[0])"
   ]
  },
  {
   "cell_type": "code",
   "execution_count": 17,
   "metadata": {
    "scrolled": true
   },
   "outputs": [
    {
     "name": "stdout",
     "output_type": "stream",
     "text": [
      "6.43855667114\n",
      "-12.2486923635\n",
      "-6.63161683083\n",
      "-1.85705184937\n",
      "1.15255260468\n",
      "-0.935413837433\n",
      "9.92638671398\n",
      "8.27636384964\n",
      "6.4984164238\n",
      "7.89592647552\n",
      "8.09227252007\n",
      "6.35356140137\n",
      "6.67751121521\n",
      "8.80120229721\n",
      "9.01358938217\n",
      "6.41407728195\n",
      "4.50340557098\n",
      "3.3906288147\n"
     ]
    },
    {
     "data": {
      "image/png": "[encoded data removed]",
      "text/plain": [
       "<matplotlib.figure.Figure at 0x7faab41dbc18>"
      ]
     },
     "metadata": {},
     "output_type": "display_data"
    },
    {
     "data": {
      "image/png": "[encoded data removed]",
      "text/plain": [
       "<matplotlib.figure.Figure at 0x7faa721a58d0>"
      ]
     },
     "metadata": {},
     "output_type": "display_data"
    },
    {
     "data": {
      "image/png": "[encoded data removed]",
      "text/plain": [
       "<matplotlib.figure.Figure at 0x7faa71fa9128>"
      ]
     },
     "metadata": {},
     "output_type": "display_data"
    },
    {
     "data": {
      "image/png": "[encoded data removed]",
      "text/plain": [
       "<matplotlib.figure.Figure at 0x7faa71b89d68>"
      ]
     },
     "metadata": {},
     "output_type": "display_data"
    },
    {
     "data": {
      "image/png": "[encoded data removed]",
      "text/plain": [
       "<matplotlib.figure.Figure at 0x7faa71de3be0>"
      ]
     },
     "metadata": {},
     "output_type": "display_data"
    },
    {
     "data": {
      "image/png": "[encoded data removed]",
      "text/plain": [
       "<matplotlib.figure.Figure at 0x7faa6c229eb8>"
      ]
     },
     "metadata": {},
     "output_type": "display_data"
    },
    {
     "data": {
      "image/png": "[encoded data removed]",
      "text/plain": [
       "<matplotlib.figure.Figure at 0x7faa71bdf8d0>"
      ]
     },
     "metadata": {},
     "output_type": "display_data"
    },
    {
     "data": {
      "image/png": "[encoded data removed]",
      "text/plain": [
       "<matplotlib.figure.Figure at 0x7faaac0d8f98>"
      ]
     },
     "metadata": {},
     "output_type": "display_data"
    },
    {
     "data": {
      "image/png": "[encoded data removed]",
      "text/plain": [
       "<matplotlib.figure.Figure at 0x7faa6c2842e8>"
      ]
     },
     "metadata": {},
     "output_type": "display_data"
    },
    {
     "data": {
      "image/png": "[encoded data removed]",
      "text/plain": [
       "<matplotlib.figure.Figure at 0x7faaa4b1e9e8>"
      ]
     },
     "metadata": {},
     "output_type": "display_data"
    },
    {
     "data": {
      "image/png": "[encoded data removed]",
      "text/plain": [
       "<matplotlib.figure.Figure at 0x7faaac360898>"
      ]
     },
     "metadata": {},
     "output_type": "display_data"
    },
    {
     "data": {
      "image/png": "[encoded data removed]",
      "text/plain": [
       "<matplotlib.figure.Figure at 0x7faa71fed0b8>"
      ]
     },
     "metadata": {},
     "output_type": "display_data"
    },
    {
     "data": {
      "image/png": "[encoded data removed]",
      "text/plain": [
       "<matplotlib.figure.Figure at 0x7faa721a50b8>"
      ]
     },
     "metadata": {},
     "output_type": "display_data"
    },
    {
     "data": {
      "image/png": "[encoded data removed]",
      "text/plain": [
       "<matplotlib.figure.Figure at 0x7faa9fd2de80>"
      ]
     },
     "metadata": {},
     "output_type": "display_data"
    },
    {
     "data": {
      "image/png": "[encoded data removed]",
      "text/plain": [
       "<matplotlib.figure.Figure at 0x7faa9eecc0f0>"
      ]
     },
     "metadata": {},
     "output_type": "display_data"
    },
    {
     "data": {
      "image/png": "[encoded data removed]",
      "text/plain": [
       "<matplotlib.figure.Figure at 0x7faa71f88470>"
      ]
     },
     "metadata": {},
     "output_type": "display_data"
    },
    {
     "data": {
      "image/png": "[encoded data removed]",
      "text/plain": [
       "<matplotlib.figure.Figure at 0x7faa486be828>"
      ]
     },
     "metadata": {},
     "output_type": "display_data"
    },
    {
     "data": {
      "image/png": "[encoded data removed]",
      "text/plain": [
       "<matplotlib.figure.Figure at 0x7faaac066cf8>"
      ]
     },
     "metadata": {},
     "output_type": "display_data"
    }
   ],
   "source": [
    "for i in range(18):\n",
    "    print(policy_wrapper(image)[0])\n",
    "    game.step(image)\n",
    "    show(image.data)\n",
    "    plt.savefig(\"tmp/anim{}.png\".format(i))"
   ]
  },
  {
   "cell_type": "code",
   "execution_count": null,
   "metadata": {},
   "outputs": [],
   "source": []
  }
 ],
 "metadata": {
  "kernelspec": {
   "display_name": "Python 3",
   "language": "python",
   "name": "python3"
  },
  "language_info": {
   "codemirror_mode": {
    "name": "ipython",
    "version": 3
   },
   "file_extension": ".py",
   "mimetype": "text/x-python",
   "name": "python",
   "nbconvert_exporter": "python",
   "pygments_lexer": "ipython3",
   "version": "3.6.3"
  }
 },
 "nbformat": 4,
 "nbformat_minor": 2
}
