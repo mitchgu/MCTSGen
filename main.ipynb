{
 "cells": [
  {
   "cell_type": "code",
   "execution_count": 1,
   "metadata": {},
   "outputs": [
    {
     "name": "stderr",
     "output_type": "stream",
     "text": [
      "/home/mitchgu/.pyenv/versions/3.6.3/lib/python3.6/importlib/_bootstrap.py:219: RuntimeWarning: compiletime version 3.5 of module 'tensorflow.python.framework.fast_tensor_util' does not match runtime version 3.6\n",
      "  return f(*args, **kwds)\n"
     ]
    }
   ],
   "source": [
    "from quadtree import Board\n",
    "import tensorflow as tf\n",
    "# from model import DCGAN\n",
    "import numpy as np\n",
    "import os\n",
    "from mcts_alphaZero import Game\n",
    "\n",
    "import matplotlib.pyplot as plt\n",
    "%matplotlib inline\n",
    "%load_ext autoreload\n",
    "%autoreload 2"
   ]
  },
  {
   "cell_type": "markdown",
   "metadata": {},
   "source": [
    "# Load dataset and declare consts"
   ]
  },
  {
   "cell_type": "code",
   "execution_count": 12,
   "metadata": {},
   "outputs": [],
   "source": [
    "model_filename = \"mnist.model.pb\"\n",
    "\n",
    "params = {\n",
    "    'max_steps': 20000,\n",
    "    'batch_size': 50,\n",
    "    'log_dir': 'logs',\n",
    "    'log_interval': 100, \n",
    "    'checkpoint_interval': 500\n",
    "}\n",
    "data_dir = \"./data/mnist\"\n",
    "\n",
    "N = 50000\n",
    "\n",
    "fd = open(os.path.join(data_dir,'th-train-images-idx3-ubyte'))\n",
    "loaded = np.fromfile(file=fd,dtype=np.uint8)\n",
    "trX = loaded[16:].reshape((60000,28,28,1)).astype(np.float)[:N]\n",
    "\n",
    "# fd = open(os.path.join(data_dir,'train-labels-idx1-ubyte'))\n",
    "# loaded = np.fromfile(file=fd,dtype=np.uint8)\n",
    "# trY = loaded[8:].reshape((60000)).astype(np.float)\n",
    "\n",
    "# fd = open(os.path.join(data_dir,'th-t10k-images-idx3-ubyte'))\n",
    "# loaded = np.fromfile(file=fd,dtype=np.uint8)\n",
    "# teX = loaded[16:].reshape((10000,28,28,1)).astype(np.float)\n",
    "\n",
    "# fd = open(os.path.join(data_dir,'t10k-labels-idx1-ubyte'))\n",
    "# loaded = np.fromfile(file=fd,dtype=np.uint8)\n",
    "# teY = loaded[8:].reshape((10000)).astype(np.float)\n",
    "\n",
    "# trY = np.asarray(trY)\n",
    "# teY = np.asarray(teY)\n",
    "\n",
    "trY = np.zeros((N, 10))\n",
    "trY[:,0] = 1\n",
    "\n",
    "fakeX = np.load('generation0.npy')[:N]\n",
    "fakeY = np.zeros((N, 10))\n",
    "fakeY[:,1] = 1\n",
    "\n",
    "X = np.concatenate((trX, fakeX), axis=0)/255.\n",
    "y = np.concatenate((trY, fakeY)).astype(np.int)\n",
    "#np.concatenate((trY, teY), axis=0).astype(np.int)\n",
    "\n",
    "seed = 547\n",
    "np.random.seed(seed)\n",
    "np.random.shuffle(X)\n",
    "np.random.seed(seed)\n",
    "np.random.shuffle(y)\n",
    "\n",
    "# y_vec = np.zeros((len(y), self.y_dim), dtype=np.float)\n",
    "# for i, label in enumerate(y):\n",
    "#   y_vec[i,y[i]] = 1.0\n",
    "\n",
    "# return X/255.,y\n",
    "\n",
    "training_img = X[:40000]\n",
    "val_img = X[:10000]\n",
    "\n",
    "training_labels = y[:40000]\n",
    "val_labels = y[:10000]"
   ]
  },
  {
   "cell_type": "code",
   "execution_count": 28,
   "metadata": {},
   "outputs": [],
   "source": [
    "def get_inference_graph(model_filename):\n",
    "    inference_graph = tf.Graph()\n",
    "    with inference_graph.as_default():\n",
    "        with tf.gfile.FastGFile(model_filename, 'rb') as f:\n",
    "            graph_def = tf.GraphDef()\n",
    "            graph_def.ParseFromString(f.read())\n",
    "            _ = tf.import_graph_def(graph_def, name=\"\")\n",
    "            \n",
    "    return inference_graph\n",
    "\n",
    "def run_inference(model_filename, images, params):\n",
    "    inference_graph = get_inference_graph(model_filename)\n",
    "    images_node = inference_graph.get_operation_by_name('images').outputs[0]\n",
    "#     train_img = inference_graph.get_operation_by_name('mod_img').outputs[0]\n",
    "    inference_node = inference_graph.get_operation_by_name('inference').outputs[0]\n",
    "    \n",
    "    inference = np.zeros((images.shape[0], 10))\n",
    "    num_batches = images.shape[0] // params['batch_size']\n",
    "    \n",
    "    \n",
    "    # Run a single step with \n",
    "    with tf.Session(graph=inference_graph) as sess:   \n",
    "        for step in range(num_batches):\n",
    "            begin = step*params['batch_size']\n",
    "            end = begin + params['batch_size']\n",
    "            feed_dict = { images_node: images[begin:end]}\n",
    "            inference[begin:end] += sess.run(inference_node, feed_dict=feed_dict)\n",
    "    inferred_labels = np.argmax(inference, axis=1)\n",
    "\n",
    "    inferred_labels_one_hot = np.zeros((inferred_labels.shape[0], 10))\n",
    "    inferred_labels_one_hot[np.arange(inferred_labels.shape[0]), inferred_labels] = 1\n",
    "\n",
    "    return inference\n",
    "\n",
    "def policy(inference_graph, images):\n",
    "    inference = np.zeros((images.shape[0], 10))\n",
    "    \n",
    "    # Run a single step with \n",
    "    with tf.Session(graph=inference_graph) as sess:   \n",
    "        feed_dict = { images_node: images}\n",
    "        inference += sess.run(inference_node, feed_dict=feed_dict)\n",
    "#     inferred_labels = np.argmax(inference, axis=1)\n",
    "\n",
    "#     inferred_labels_one_hot = np.zeros((inferred_labels.shape[0], 10))\n",
    "#     inferred_labels_one_hot[np.arange(inferred_labels.shape[0]), inferred_labels] = 1\n",
    "\n",
    "    return inference\n"
   ]
  },
  {
   "cell_type": "code",
   "execution_count": 30,
   "metadata": {},
   "outputs": [],
   "source": [
    "graph = get_inference_graph(model_filename)\n",
    "images_node = graph.get_operation_by_name('images').outputs[0]\n",
    "#     train_img = inference_graph.get_operation_by_name('mod_img').outputs[0]\n",
    "inference_node = graph.get_operation_by_name('inference').outputs[0]"
   ]
  },
  {
   "cell_type": "code",
   "execution_count": 31,
   "metadata": {},
   "outputs": [
    {
     "name": "stdout",
     "output_type": "stream",
     "text": [
      "32.7 ms ± 361 µs per loop (mean ± std. dev. of 7 runs, 10 loops each)\n"
     ]
    }
   ],
   "source": [
    "%timeit policy(graph, val_img[:50])"
   ]
  },
  {
   "cell_type": "code",
   "execution_count": 9,
   "metadata": {},
   "outputs": [],
   "source": [
    "def show(img):\n",
    "    plt.figure()\n",
    "    plt.imshow(img, cmap=\"Greys_r\",vmin=0, vmax=255)"
   ]
  },
  {
   "cell_type": "code",
   "execution_count": 34,
   "metadata": {},
   "outputs": [],
   "source": [
    "def policy_wrapper(board):\n",
    "    samples = np.ones((50,28,28,1))\n",
    "    samples[:,:,:,0] = board.data/255.\n",
    "\n",
    "    r = policy(graph, samples)\n",
    "    return np.mean(r[:,0] - r[:,1]), 0"
   ]
  },
  {
   "cell_type": "code",
   "execution_count": 35,
   "metadata": {
    "scrolled": true
   },
   "outputs": [
    {
     "name": "stdout",
     "output_type": "stream",
     "text": [
      "6.43855667114\n"
     ]
    }
   ],
   "source": [
    "image = Board(28,28)\n",
    "game = Game(policy_wrapper, 1, 100)\n",
    "print(policy_wrapper(image)[0])"
   ]
  },
  {
   "cell_type": "code",
   "execution_count": 36,
   "metadata": {
    "scrolled": true
   },
   "outputs": [
    {
     "name": "stdout",
     "output_type": "stream",
     "text": [
      "6.43855667114\n",
      "-12.2486923635\n",
      "-6.63161683083\n",
      "-1.85705184937\n",
      "1.15255260468\n",
      "-1.43279695511\n",
      "10.2947643995\n",
      "8.83453536034\n",
      "9.46817076206\n",
      "10.9218575954\n",
      "8.92378902435\n",
      "9.12418961525\n",
      "9.31731081009\n",
      "7.52084088326\n",
      "7.62272834778\n",
      "8.0273296833\n",
      "8.16417884827\n",
      "10.2335736752\n"
     ]
    },
    {
     "data": {
      "image/png": "[encoded data removed]",
      "text/plain": [
       "<matplotlib.figure.Figure at 0x7faa9fe86470>"
      ]
     },
     "metadata": {},
     "output_type": "display_data"
    },
    {
     "data": {
      "image/png": "[encoded data removed]",
      "text/plain": [
       "<matplotlib.figure.Figure at 0x7faa71e40a90>"
      ]
     },
     "metadata": {},
     "output_type": "display_data"
    },
    {
     "data": {
      "image/png": "[encoded data removed]",
      "text/plain": [
       "<matplotlib.figure.Figure at 0x7faa9ff49f98>"
      ]
     },
     "metadata": {},
     "output_type": "display_data"
    },
    {
     "data": {
      "image/png": "[encoded data removed]",
      "text/plain": [
       "<matplotlib.figure.Figure at 0x7faa71d226d8>"
      ]
     },
     "metadata": {},
     "output_type": "display_data"
    },
    {
     "data": {
      "image/png": "[encoded data removed]",
      "text/plain": [
       "<matplotlib.figure.Figure at 0x7faaa4645828>"
      ]
     },
     "metadata": {},
     "output_type": "display_data"
    },
    {
     "data": {
      "image/png": "[encoded data removed]",
      "text/plain": [
       "<matplotlib.figure.Figure at 0x7faaa43316d8>"
      ]
     },
     "metadata": {},
     "output_type": "display_data"
    },
    {
     "data": {
      "image/png": "[encoded data removed]",
      "text/plain": [
       "<matplotlib.figure.Figure at 0x7faaac0a1fd0>"
      ]
     },
     "metadata": {},
     "output_type": "display_data"
    },
    {
     "data": {
      "image/png": "[encoded data removed]",
      "text/plain": [
       "<matplotlib.figure.Figure at 0x7faa9c78beb8>"
      ]
     },
     "metadata": {},
     "output_type": "display_data"
    },
    {
     "data": {
      "image/png": "[encoded data removed]",
      "text/plain": [
       "<matplotlib.figure.Figure at 0x7faaa4a5f0f0>"
      ]
     },
     "metadata": {},
     "output_type": "display_data"
    },
    {
     "data": {
      "image/png": "[encoded data removed]",
      "text/plain": [
       "<matplotlib.figure.Figure at 0x7faa71b98748>"
      ]
     },
     "metadata": {},
     "output_type": "display_data"
    },
    {
     "data": {
      "image/png": "[encoded data removed]",
      "text/plain": [
       "<matplotlib.figure.Figure at 0x7faaa4787eb8>"
      ]
     },
     "metadata": {},
     "output_type": "display_data"
    },
    {
     "data": {
      "image/png": "[encoded data removed]",
      "text/plain": [
       "<matplotlib.figure.Figure at 0x7faa9fc46748>"
      ]
     },
     "metadata": {},
     "output_type": "display_data"
    },
    {
     "data": {
      "image/png": "[encoded data removed]",
      "text/plain": [
       "<matplotlib.figure.Figure at 0x7faa9c113e80>"
      ]
     },
     "metadata": {},
     "output_type": "display_data"
    },
    {
     "data": {
      "image/png": "[encoded data removed]",
      "text/plain": [
       "<matplotlib.figure.Figure at 0x7faa9b8b5668>"
      ]
     },
     "metadata": {},
     "output_type": "display_data"
    },
    {
     "data": {
      "image/png": "[encoded data removed]",
      "text/plain": [
       "<matplotlib.figure.Figure at 0x7faa9b438908>"
      ]
     },
     "metadata": {},
     "output_type": "display_data"
    },
    {
     "data": {
      "image/png": "[encoded data removed]",
      "text/plain": [
       "<matplotlib.figure.Figure at 0x7faa9a4fce10>"
      ]
     },
     "metadata": {},
     "output_type": "display_data"
    },
    {
     "data": {
      "image/png": "[encoded data removed]",
      "text/plain": [
       "<matplotlib.figure.Figure at 0x7faa71be30b8>"
      ]
     },
     "metadata": {},
     "output_type": "display_data"
    },
    {
     "data": {
      "image/png": "[encoded data removed]",
      "text/plain": [
       "<matplotlib.figure.Figure at 0x7faa71e57ba8>"
      ]
     },
     "metadata": {},
     "output_type": "display_data"
    }
   ],
   "source": [
    "for i in range(18):\n",
    "    print(policy_wrapper(image)[0])\n",
    "    game.step(image)\n",
    "    show(image.data)\n",
    "    plt.savefig(\"tmp/anim{}.png\".format(i))"
   ]
  },
  {
   "cell_type": "code",
   "execution_count": null,
   "metadata": {},
   "outputs": [],
   "source": []
  }
 ],
 "metadata": {
  "kernelspec": {
   "display_name": "Python 3",
   "language": "python",
   "name": "python3"
  },
  "language_info": {
   "codemirror_mode": {
    "name": "ipython",
    "version": 3
   },
   "file_extension": ".py",
   "mimetype": "text/x-python",
   "name": "python",
   "nbconvert_exporter": "python",
   "pygments_lexer": "ipython3",
   "version": "3.6.3"
  }
 },
 "nbformat": 4,
 "nbformat_minor": 2
}
