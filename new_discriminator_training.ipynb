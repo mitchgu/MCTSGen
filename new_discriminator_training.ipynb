{
 "cells": [
  {
   "cell_type": "markdown",
   "metadata": {},
   "source": [
    "# Dynamically prunning MNIST"
   ]
  },
  {
   "cell_type": "code",
   "execution_count": 1,
   "metadata": {},
   "outputs": [
    {
     "name": "stderr",
     "output_type": "stream",
     "text": [
      "/home/mitchgu/.pyenv/versions/3.6.3/lib/python3.6/importlib/_bootstrap.py:219: RuntimeWarning: compiletime version 3.5 of module 'tensorflow.python.framework.fast_tensor_util' does not match runtime version 3.6\n",
      "  return f(*args, **kwds)\n"
     ]
    }
   ],
   "source": [
    "import os, time\n",
    "\n",
    "import numpy as np\n",
    "import tensorflow as tf\n",
    "import matplotlib.pyplot as plt\n",
    "%matplotlib inline\n",
    "\n",
    "\n",
    "params = {\n",
    "    'max_steps': 20000,\n",
    "    'batch_size': 50,\n",
    "    'log_dir': 'logs',\n",
    "    'log_interval': 100, \n",
    "    'checkpoint_interval': 500\n",
    "}\n"
   ]
  },
  {
   "cell_type": "markdown",
   "metadata": {},
   "source": [
    "## Load the dataset"
   ]
  },
  {
   "cell_type": "code",
   "execution_count": 2,
   "metadata": {},
   "outputs": [],
   "source": [
    "data_dir = \"./data/mnist\"\n",
    "\n",
    "N = 50000\n",
    "\n",
    "fd = open(os.path.join(data_dir,'th-train-images-idx3-ubyte'))\n",
    "loaded = np.fromfile(file=fd,dtype=np.uint8)\n",
    "trX = loaded[16:].reshape((60000,28,28,1)).astype(np.float)[:N]\n",
    "\n",
    "# fd = open(os.path.join(data_dir,'train-labels-idx1-ubyte'))\n",
    "# loaded = np.fromfile(file=fd,dtype=np.uint8)\n",
    "# trY = loaded[8:].reshape((60000)).astype(np.float)\n",
    "\n",
    "# fd = open(os.path.join(data_dir,'th-t10k-images-idx3-ubyte'))\n",
    "# loaded = np.fromfile(file=fd,dtype=np.uint8)\n",
    "# teX = loaded[16:].reshape((10000,28,28,1)).astype(np.float)\n",
    "\n",
    "# fd = open(os.path.join(data_dir,'t10k-labels-idx1-ubyte'))\n",
    "# loaded = np.fromfile(file=fd,dtype=np.uint8)\n",
    "# teY = loaded[8:].reshape((10000)).astype(np.float)\n",
    "\n",
    "# trY = np.asarray(trY)\n",
    "# teY = np.asarray(teY)\n",
    "\n",
    "trY = np.zeros((N, 10))\n",
    "trY[:,0] = 1\n",
    "\n",
    "fakeX = np.load('generation0.npy')[:N]\n",
    "fakeY = np.zeros((N, 10))\n",
    "fakeY[:,1] = 1\n",
    "\n",
    "X = np.concatenate((trX, fakeX), axis=0)/255.\n",
    "y = np.concatenate((trY, fakeY)).astype(np.int)\n",
    "#np.concatenate((trY, teY), axis=0).astype(np.int)\n",
    "\n",
    "seed = 547\n",
    "np.random.seed(seed)\n",
    "np.random.shuffle(X)\n",
    "np.random.seed(seed)\n",
    "np.random.shuffle(y)\n",
    "\n",
    "# y_vec = np.zeros((len(y), self.y_dim), dtype=np.float)\n",
    "# for i, label in enumerate(y):\n",
    "#   y_vec[i,y[i]] = 1.0\n",
    "\n",
    "# return X/255.,y\n",
    "\n",
    "training_img = X[:40000]\n",
    "val_img = X[:10000]\n",
    "\n",
    "training_labels = y[:40000]\n",
    "val_labels = y[:10000]"
   ]
  },
  {
   "cell_type": "markdown",
   "metadata": {},
   "source": [
    "## Network Definition"
   ]
  },
  {
   "cell_type": "markdown",
   "metadata": {},
   "source": [
    "Definition of layer functions"
   ]
  },
  {
   "cell_type": "code",
   "execution_count": 16,
   "metadata": {},
   "outputs": [],
   "source": [
    "def conv(x, filter_height, filter_width, in_chan, out_chan, name):\n",
    "    with tf.name_scope(name) as scope:\n",
    "        W = tf.get_variable(name+'_w', shape = [filter_height, filter_width, in_chan, out_chan])\n",
    "        b = tf.get_variable(name+'_b', shape = [out_chan])\n",
    "\n",
    "        c = tf.nn.conv2d(x, W, strides=[1, 1, 1, 1], padding='SAME')\n",
    "        y = tf.nn.bias_add(c, b)\n",
    "    \n",
    "        h = tf.nn.relu(y, name=scope)\n",
    "        return h\n",
    "\n",
    "\n",
    "def pool2(x, name):\n",
    "    with tf.name_scope(name) as scope:\n",
    "        h = tf.nn.max_pool(x, ksize=[1, 2, 2, 1], strides=[1, 2, 2, 1], padding='SAME', name=scope)\n",
    "    return h\n",
    "\n",
    "\n",
    "def fc(x, num_in, num_out, name, relu = True):\n",
    "    with tf.name_scope(name) as scope:\n",
    "        # Create tf variables for the weights and biases\n",
    "        W = tf.get_variable(name+'_w', shape=[num_in, num_out], trainable=True, dtype=tf.float32)\n",
    "        b = tf.get_variable(name+'_b', [num_out], trainable=True, dtype=tf.float32)\n",
    "        \n",
    "        if relu:\n",
    "            y = tf.nn.bias_add(tf.matmul(x, W), b)\n",
    "            h = tf.nn.relu(y, name=scope)\n",
    "            return h\n",
    "        else:\n",
    "            y = tf.nn.bias_add(tf.matmul(x, W), b, name=scope)\n",
    "            return y\n",
    "\n",
    "def flatten(x, num_out):\n",
    "    return tf.reshape(x, [-1, num_out])\n",
    "\n",
    "def drop(x, keep_prob, name):\n",
    "    with tf.name_scope(name) as scope:\n",
    "        h = tf.nn.dropout(x, keep_prob)\n",
    "    return h\n",
    "\n",
    "def prune(x, prune_ratio, name):\n",
    "    with tf.name_scope(name) as scope:\n",
    "        fmap_arr = tf.py_func(prune_fmap, [x, prune_ratio], tf.float32)\n",
    "    return fmap_arr"
   ]
  },
  {
   "cell_type": "markdown",
   "metadata": {},
   "source": [
    "Definition of network topology"
   ]
  },
  {
   "cell_type": "code",
   "execution_count": 19,
   "metadata": {},
   "outputs": [],
   "source": [
    "def training_graph():\n",
    "    dcn_graph = tf.Graph()\n",
    "    with dcn_graph.as_default():\n",
    "        images = tf.placeholder(tf.float32, [params['batch_size'], 28,28,1], name=\"images\")\n",
    "        labels = tf.placeholder(tf.int32, [params['batch_size'], 10], name=\"labels\")\n",
    "        keep_prob =  tf.placeholder(tf.float32, name='drop')\n",
    "        train_img = tf.placeholder(tf.bool, name='mod_img')\n",
    "        prune_ratio =  tf.placeholder(tf.float32, [2], name='prune')\n",
    "        \n",
    "        # Setup the inference nodes\n",
    "        with tf.name_scope('inference') as scope:\n",
    "            input_image = tf.reshape(images, [-1, 28, 28, 1])\n",
    "            conv_1 = conv(input_image, 5, 5, 1, 32, 'conv1')\n",
    "            pool_1 = pool2(conv_1, 'pool1')\n",
    "            \n",
    "            conv_2 = conv(pool_1, 5, 5, 32, 64, 'conv2')\n",
    "            pool_2 = pool2(conv_2, 'pool2')\n",
    "            \n",
    "            fc1 = fc(flatten(pool_2, 7*7*64), 7*7*64, 1024, 'fc1', True)  \n",
    "#             drop_1 = drop(fc1, keep_prob, 'drop1')\n",
    "\n",
    "            fc2 = fc(fc1, 1024, 10, 'fc2', False) \n",
    "            logits = tf.identity(fc2, name=scope)\n",
    "            \n",
    "        # Setup the loss and optimizer nodes\n",
    "        with tf.name_scope('loss') as scope:\n",
    "            cross_entropy = tf.nn.softmax_cross_entropy_with_logits(\n",
    "                labels=labels, logits=logits, name='xentropy')\n",
    "            loss = tf.reduce_mean(cross_entropy , name=scope) \n",
    "\n",
    "        with tf.name_scope('train_step') as scope:\n",
    "            update_ops = tf.get_collection(tf.GraphKeys.UPDATE_OPS)\n",
    "            optimizer = tf.train.AdamOptimizer(1e-4)\n",
    "            with tf.control_dependencies(update_ops):\n",
    "                train_step = optimizer.minimize(loss, name=scope)\n",
    "            \n",
    "            \n",
    "        # Setup evaluation nodes\n",
    "        with tf.name_scope('eval_step') as scope:\n",
    "            correct = tf.cast(tf.equal(tf.argmax(logits, 1), tf.argmax(labels, 1)), tf.int32)\n",
    "            # Return the number of true entries.\n",
    "            eval_correct = tf.reduce_sum(correct, name=scope)\n",
    "\n",
    "        with tf.name_scope('summary'):\n",
    "            tf.summary.scalar('loss', loss)\n",
    "            tf.summary.scalar('eval_correct', eval_correct)\n",
    "        return dcn_graph\n",
    "    \n",
    "dcn_graph = training_graph()\n"
   ]
  },
  {
   "cell_type": "markdown",
   "metadata": {},
   "source": [
    "## Training network"
   ]
  },
  {
   "cell_type": "code",
   "execution_count": 18,
   "metadata": {},
   "outputs": [],
   "source": [
    "def get_placeholders(model_graph, placeholder_names):\n",
    "      return [model_graph.get_operation_by_name(name).outputs[0] for name in placeholder_names]\n",
    "\n",
    "def eval_net(sess, images, labels, params):\n",
    "    steps_per_epoch = images.shape[0] // params['batch_size']\n",
    "    num_examples = steps_per_epoch * params['batch_size']\n",
    "    \n",
    "    if labels is None:\n",
    "        labels = np.zeros(images.shape[0])\n",
    "\n",
    "    model_graph = sess.graph\n",
    "    images_node, labels_node, keep_node, train_img, prune_ratio= get_placeholders(model_graph, ['images', 'labels', 'drop', 'mod_img', 'prune'])\n",
    "    eval_step = model_graph.get_operation_by_name('eval_step').outputs[0]\n",
    "\n",
    "    # And run one epoch of eval.\n",
    "    true_count = 0  # Counts the number of correct predictions.\n",
    "    for step in range(steps_per_epoch):\n",
    "        begin = step*params['batch_size']\n",
    "        end = begin + params['batch_size']\n",
    "        feed_dict = { images_node: images[begin:end], labels_node: labels[begin:end], keep_node: 1.0, train_img: False, prune_ratio: [0.5, 0.5]}\n",
    "        true_count += sess.run(eval_step, feed_dict=feed_dict)\n",
    "    accuracy = float(true_count) / num_examples\n",
    "    return accuracy\n",
    "\n",
    "def train_net(sess, data_set, params):\n",
    "    model_graph = sess.graph\n",
    "    images_node, labels_node, keep_node, train_img, prune_ratio = get_placeholders(model_graph, ['images', 'labels', 'drop', 'mod_img', 'prune'])\n",
    "    train_step = model_graph.get_operation_by_name('train_step')\n",
    "    loss = model_graph.get_operation_by_name('loss').outputs[0]\n",
    "\n",
    "    train_error = np.zeros(int(params['max_steps']/params['checkpoint_interval']))\n",
    "    validation_error = np.zeros(int(params['max_steps']/params['checkpoint_interval']))\n",
    "    train_loss = np.zeros(int(params['max_steps']/params['log_interval']))\n",
    "    min_validation_error = 1\n",
    "\n",
    "    ckpt_idx, log_idx = (0, 0)\n",
    "    with sess.graph.as_default():\n",
    "        # Logging and initialization before starting a session\n",
    "        saver = tf.train.Saver()\n",
    "        best_saver = tf.train.Saver(max_to_keep=1)\n",
    "        summary = tf.summary.merge_all()\n",
    "        summary_writer = tf.summary.FileWriter(params['log_dir'], sess.graph)\n",
    "        sess.run(tf.global_variables_initializer())\n",
    "\n",
    "        start_time = time.time()\n",
    "        for step in range(params['max_steps']):\n",
    "            start = (step * params['batch_size']) % 39900\n",
    "            images = training_img[start:start+params['batch_size']]\n",
    "            labels = training_labels[start:start+params['batch_size']]\n",
    "#             images, labels = data_set.train.next_batch(params['batch_size'])\n",
    "            \n",
    "            train_samples = images.shape[0]\n",
    "            begin = (step*params['batch_size']) % train_samples\n",
    "            end = begin + params['batch_size']\n",
    "            \n",
    "            feed_dict = { images_node: images, labels_node: labels, keep_node: 0.5, train_img: True, prune_ratio: [0., 0.]}\n",
    "            _, loss_value = sess.run([train_step, loss], feed_dict=feed_dict)\n",
    "\n",
    "            # Write the summaries and print an overview fairly often.\n",
    "            if step % params['log_interval'] == 0:\n",
    "                duration = time.time() - start_time\n",
    "                start_time = time.time()\n",
    "                train_loss[log_idx] = loss_value\n",
    "                log_idx += 1\n",
    "                # Print status to stdout.\n",
    "                print('Step %d: loss = %.2f (%.3f sec)' % (step, loss_value, duration))\n",
    "                # Update the events file.\n",
    "                summary_str = sess.run(summary, feed_dict=feed_dict)\n",
    "                summary_writer.add_summary(summary_str, step)\n",
    "                summary_writer.flush()\n",
    "\n",
    "            # Save a checkpoint and evaluate the model periodically.\n",
    "            if (step + 1) % params['checkpoint_interval'] == 0 or (step + 1) == params['max_steps']:\n",
    "                checkpoint_file = os.path.join(params['log_dir'], 'model.ckpt')\n",
    "                saver.save(sess, checkpoint_file, global_step=step)\n",
    "                train_error[ckpt_idx] = 1 - eval_net(sess, training_img, training_labels, params)\n",
    "                validation_error[ckpt_idx] = 1 - eval_net(sess, val_img, val_labels, params)\n",
    "                if validation_error[ckpt_idx] < min_validation_error:\n",
    "                    checkpoint_file = os.path.join(params['log_dir'], 'best_model.ckpt')\n",
    "                    best_saver.save(sess, checkpoint_file)\n",
    "                    min_validation_error = validation_error[ckpt_idx]\n",
    "\n",
    "                print(\"Step %d: train-error: %g validation-error: %g\" % \\\n",
    "                      (step, train_error[ckpt_idx], validation_error[ckpt_idx]))\n",
    "                ckpt_idx += 1\n",
    "        \n",
    "    return (train_loss[:log_idx], train_error[:ckpt_idx], validation_error[:ckpt_idx])"
   ]
  },
  {
   "cell_type": "code",
   "execution_count": 22,
   "metadata": {
    "scrolled": false
   },
   "outputs": [
    {
     "name": "stdout",
     "output_type": "stream",
     "text": [
      "Step 0: loss = 2.58 (0.033 sec)\n",
      "Step 100: loss = 0.00 (0.614 sec)\n",
      "Step 200: loss = 0.00 (0.589 sec)\n",
      "Step 300: loss = 0.00 (0.585 sec)\n",
      "Step 400: loss = 0.02 (0.581 sec)\n",
      "Step 499: train-error: 7.5e-05 validation-error: 0.0002\n",
      "Step 500: loss = 0.00 (3.513 sec)\n",
      "Step 600: loss = 0.00 (0.585 sec)\n",
      "Step 700: loss = 0.00 (0.590 sec)\n",
      "Step 800: loss = 0.00 (0.585 sec)\n",
      "Step 900: loss = 0.00 (0.592 sec)\n",
      "Step 999: train-error: 2.5e-05 validation-error: 0\n",
      "Step 1000: loss = 0.00 (4.859 sec)\n",
      "Step 1100: loss = 0.00 (0.593 sec)\n",
      "Step 1200: loss = 0.00 (0.585 sec)\n",
      "Step 1300: loss = 0.00 (0.581 sec)\n",
      "Step 1400: loss = 0.00 (0.582 sec)\n",
      "Step 1499: train-error: 0 validation-error: 0\n",
      "Step 1500: loss = 0.00 (3.145 sec)\n",
      "Step 1600: loss = 0.00 (0.596 sec)\n",
      "Step 1700: loss = 0.00 (0.585 sec)\n",
      "Step 1800: loss = 0.00 (0.585 sec)\n",
      "Step 1900: loss = 0.00 (0.582 sec)\n"
     ]
    },
    {
     "ename": "KeyboardInterrupt",
     "evalue": "",
     "output_type": "error",
     "traceback": [
      "\u001b[0;31m---------------------------------------------------------------------------\u001b[0m",
      "\u001b[0;31mKeyboardInterrupt\u001b[0m                         Traceback (most recent call last)",
      "\u001b[0;32m<ipython-input-22-f96fe45bd733>\u001b[0m in \u001b[0;36m<module>\u001b[0;34m()\u001b[0m\n\u001b[1;32m      1\u001b[0m \u001b[0msess\u001b[0m \u001b[0;34m=\u001b[0m \u001b[0mtf\u001b[0m\u001b[0;34m.\u001b[0m\u001b[0mSession\u001b[0m\u001b[0;34m(\u001b[0m\u001b[0mgraph\u001b[0m\u001b[0;34m=\u001b[0m\u001b[0mdcn_graph\u001b[0m\u001b[0;34m)\u001b[0m\u001b[0;34m\u001b[0m\u001b[0m\n\u001b[0;32m----> 2\u001b[0;31m \u001b[0mtrain_loss\u001b[0m\u001b[0;34m,\u001b[0m \u001b[0mtrain_error\u001b[0m\u001b[0;34m,\u001b[0m \u001b[0mvalidation_error\u001b[0m \u001b[0;34m=\u001b[0m \u001b[0mtrain_net\u001b[0m\u001b[0;34m(\u001b[0m\u001b[0msess\u001b[0m\u001b[0;34m,\u001b[0m \u001b[0;34m\"blah\"\u001b[0m\u001b[0;34m,\u001b[0m \u001b[0mparams\u001b[0m\u001b[0;34m)\u001b[0m\u001b[0;34m\u001b[0m\u001b[0m\n\u001b[0m",
      "\u001b[0;32m<ipython-input-18-bec3ca586ae8>\u001b[0m in \u001b[0;36mtrain_net\u001b[0;34m(sess, data_set, params)\u001b[0m\n\u001b[1;32m     74\u001b[0m                 \u001b[0mcheckpoint_file\u001b[0m \u001b[0;34m=\u001b[0m \u001b[0mos\u001b[0m\u001b[0;34m.\u001b[0m\u001b[0mpath\u001b[0m\u001b[0;34m.\u001b[0m\u001b[0mjoin\u001b[0m\u001b[0;34m(\u001b[0m\u001b[0mparams\u001b[0m\u001b[0;34m[\u001b[0m\u001b[0;34m'log_dir'\u001b[0m\u001b[0;34m]\u001b[0m\u001b[0;34m,\u001b[0m \u001b[0;34m'model.ckpt'\u001b[0m\u001b[0;34m)\u001b[0m\u001b[0;34m\u001b[0m\u001b[0m\n\u001b[1;32m     75\u001b[0m                 \u001b[0msaver\u001b[0m\u001b[0;34m.\u001b[0m\u001b[0msave\u001b[0m\u001b[0;34m(\u001b[0m\u001b[0msess\u001b[0m\u001b[0;34m,\u001b[0m \u001b[0mcheckpoint_file\u001b[0m\u001b[0;34m,\u001b[0m \u001b[0mglobal_step\u001b[0m\u001b[0;34m=\u001b[0m\u001b[0mstep\u001b[0m\u001b[0;34m)\u001b[0m\u001b[0;34m\u001b[0m\u001b[0m\n\u001b[0;32m---> 76\u001b[0;31m                 \u001b[0mtrain_error\u001b[0m\u001b[0;34m[\u001b[0m\u001b[0mckpt_idx\u001b[0m\u001b[0;34m]\u001b[0m \u001b[0;34m=\u001b[0m \u001b[0;36m1\u001b[0m \u001b[0;34m-\u001b[0m \u001b[0meval_net\u001b[0m\u001b[0;34m(\u001b[0m\u001b[0msess\u001b[0m\u001b[0;34m,\u001b[0m \u001b[0mtraining_img\u001b[0m\u001b[0;34m,\u001b[0m \u001b[0mtraining_labels\u001b[0m\u001b[0;34m,\u001b[0m \u001b[0mparams\u001b[0m\u001b[0;34m)\u001b[0m\u001b[0;34m\u001b[0m\u001b[0m\n\u001b[0m\u001b[1;32m     77\u001b[0m                 \u001b[0mvalidation_error\u001b[0m\u001b[0;34m[\u001b[0m\u001b[0mckpt_idx\u001b[0m\u001b[0;34m]\u001b[0m \u001b[0;34m=\u001b[0m \u001b[0;36m1\u001b[0m \u001b[0;34m-\u001b[0m \u001b[0meval_net\u001b[0m\u001b[0;34m(\u001b[0m\u001b[0msess\u001b[0m\u001b[0;34m,\u001b[0m \u001b[0mval_img\u001b[0m\u001b[0;34m,\u001b[0m \u001b[0mval_labels\u001b[0m\u001b[0;34m,\u001b[0m \u001b[0mparams\u001b[0m\u001b[0;34m)\u001b[0m\u001b[0;34m\u001b[0m\u001b[0m\n\u001b[1;32m     78\u001b[0m                 \u001b[0;32mif\u001b[0m \u001b[0mvalidation_error\u001b[0m\u001b[0;34m[\u001b[0m\u001b[0mckpt_idx\u001b[0m\u001b[0;34m]\u001b[0m \u001b[0;34m<\u001b[0m \u001b[0mmin_validation_error\u001b[0m\u001b[0;34m:\u001b[0m\u001b[0;34m\u001b[0m\u001b[0m\n",
      "\u001b[0;32m<ipython-input-18-bec3ca586ae8>\u001b[0m in \u001b[0;36meval_net\u001b[0;34m(sess, images, labels, params)\u001b[0m\n\u001b[1;32m     19\u001b[0m         \u001b[0mend\u001b[0m \u001b[0;34m=\u001b[0m \u001b[0mbegin\u001b[0m \u001b[0;34m+\u001b[0m \u001b[0mparams\u001b[0m\u001b[0;34m[\u001b[0m\u001b[0;34m'batch_size'\u001b[0m\u001b[0;34m]\u001b[0m\u001b[0;34m\u001b[0m\u001b[0m\n\u001b[1;32m     20\u001b[0m         \u001b[0mfeed_dict\u001b[0m \u001b[0;34m=\u001b[0m \u001b[0;34m{\u001b[0m \u001b[0mimages_node\u001b[0m\u001b[0;34m:\u001b[0m \u001b[0mimages\u001b[0m\u001b[0;34m[\u001b[0m\u001b[0mbegin\u001b[0m\u001b[0;34m:\u001b[0m\u001b[0mend\u001b[0m\u001b[0;34m]\u001b[0m\u001b[0;34m,\u001b[0m \u001b[0mlabels_node\u001b[0m\u001b[0;34m:\u001b[0m \u001b[0mlabels\u001b[0m\u001b[0;34m[\u001b[0m\u001b[0mbegin\u001b[0m\u001b[0;34m:\u001b[0m\u001b[0mend\u001b[0m\u001b[0;34m]\u001b[0m\u001b[0;34m,\u001b[0m \u001b[0mkeep_node\u001b[0m\u001b[0;34m:\u001b[0m \u001b[0;36m1.0\u001b[0m\u001b[0;34m,\u001b[0m \u001b[0mtrain_img\u001b[0m\u001b[0;34m:\u001b[0m \u001b[0;32mFalse\u001b[0m\u001b[0;34m,\u001b[0m \u001b[0mprune_ratio\u001b[0m\u001b[0;34m:\u001b[0m \u001b[0;34m[\u001b[0m\u001b[0;36m0.5\u001b[0m\u001b[0;34m,\u001b[0m \u001b[0;36m0.5\u001b[0m\u001b[0;34m]\u001b[0m\u001b[0;34m}\u001b[0m\u001b[0;34m\u001b[0m\u001b[0m\n\u001b[0;32m---> 21\u001b[0;31m         \u001b[0mtrue_count\u001b[0m \u001b[0;34m+=\u001b[0m \u001b[0msess\u001b[0m\u001b[0;34m.\u001b[0m\u001b[0mrun\u001b[0m\u001b[0;34m(\u001b[0m\u001b[0meval_step\u001b[0m\u001b[0;34m,\u001b[0m \u001b[0mfeed_dict\u001b[0m\u001b[0;34m=\u001b[0m\u001b[0mfeed_dict\u001b[0m\u001b[0;34m)\u001b[0m\u001b[0;34m\u001b[0m\u001b[0m\n\u001b[0m\u001b[1;32m     22\u001b[0m     \u001b[0maccuracy\u001b[0m \u001b[0;34m=\u001b[0m \u001b[0mfloat\u001b[0m\u001b[0;34m(\u001b[0m\u001b[0mtrue_count\u001b[0m\u001b[0;34m)\u001b[0m \u001b[0;34m/\u001b[0m \u001b[0mnum_examples\u001b[0m\u001b[0;34m\u001b[0m\u001b[0m\n\u001b[1;32m     23\u001b[0m     \u001b[0;32mreturn\u001b[0m \u001b[0maccuracy\u001b[0m\u001b[0;34m\u001b[0m\u001b[0m\n",
      "\u001b[0;32m/media/Showbiz/Code/6.888-project/venv/lib/python3.6/site-packages/tensorflow/python/client/session.py\u001b[0m in \u001b[0;36mrun\u001b[0;34m(self, fetches, feed_dict, options, run_metadata)\u001b[0m\n\u001b[1;32m    887\u001b[0m     \u001b[0;32mtry\u001b[0m\u001b[0;34m:\u001b[0m\u001b[0;34m\u001b[0m\u001b[0m\n\u001b[1;32m    888\u001b[0m       result = self._run(None, fetches, feed_dict, options_ptr,\n\u001b[0;32m--> 889\u001b[0;31m                          run_metadata_ptr)\n\u001b[0m\u001b[1;32m    890\u001b[0m       \u001b[0;32mif\u001b[0m \u001b[0mrun_metadata\u001b[0m\u001b[0;34m:\u001b[0m\u001b[0;34m\u001b[0m\u001b[0m\n\u001b[1;32m    891\u001b[0m         \u001b[0mproto_data\u001b[0m \u001b[0;34m=\u001b[0m \u001b[0mtf_session\u001b[0m\u001b[0;34m.\u001b[0m\u001b[0mTF_GetBuffer\u001b[0m\u001b[0;34m(\u001b[0m\u001b[0mrun_metadata_ptr\u001b[0m\u001b[0;34m)\u001b[0m\u001b[0;34m\u001b[0m\u001b[0m\n",
      "\u001b[0;32m/media/Showbiz/Code/6.888-project/venv/lib/python3.6/site-packages/tensorflow/python/client/session.py\u001b[0m in \u001b[0;36m_run\u001b[0;34m(self, handle, fetches, feed_dict, options, run_metadata)\u001b[0m\n\u001b[1;32m   1118\u001b[0m     \u001b[0;32mif\u001b[0m \u001b[0mfinal_fetches\u001b[0m \u001b[0;32mor\u001b[0m \u001b[0mfinal_targets\u001b[0m \u001b[0;32mor\u001b[0m \u001b[0;34m(\u001b[0m\u001b[0mhandle\u001b[0m \u001b[0;32mand\u001b[0m \u001b[0mfeed_dict_tensor\u001b[0m\u001b[0;34m)\u001b[0m\u001b[0;34m:\u001b[0m\u001b[0;34m\u001b[0m\u001b[0m\n\u001b[1;32m   1119\u001b[0m       results = self._do_run(handle, final_targets, final_fetches,\n\u001b[0;32m-> 1120\u001b[0;31m                              feed_dict_tensor, options, run_metadata)\n\u001b[0m\u001b[1;32m   1121\u001b[0m     \u001b[0;32melse\u001b[0m\u001b[0;34m:\u001b[0m\u001b[0;34m\u001b[0m\u001b[0m\n\u001b[1;32m   1122\u001b[0m       \u001b[0mresults\u001b[0m \u001b[0;34m=\u001b[0m \u001b[0;34m[\u001b[0m\u001b[0;34m]\u001b[0m\u001b[0;34m\u001b[0m\u001b[0m\n",
      "\u001b[0;32m/media/Showbiz/Code/6.888-project/venv/lib/python3.6/site-packages/tensorflow/python/client/session.py\u001b[0m in \u001b[0;36m_do_run\u001b[0;34m(self, handle, target_list, fetch_list, feed_dict, options, run_metadata)\u001b[0m\n\u001b[1;32m   1315\u001b[0m     \u001b[0;32mif\u001b[0m \u001b[0mhandle\u001b[0m \u001b[0;32mis\u001b[0m \u001b[0;32mNone\u001b[0m\u001b[0;34m:\u001b[0m\u001b[0;34m\u001b[0m\u001b[0m\n\u001b[1;32m   1316\u001b[0m       return self._do_call(_run_fn, self._session, feeds, fetches, targets,\n\u001b[0;32m-> 1317\u001b[0;31m                            options, run_metadata)\n\u001b[0m\u001b[1;32m   1318\u001b[0m     \u001b[0;32melse\u001b[0m\u001b[0;34m:\u001b[0m\u001b[0;34m\u001b[0m\u001b[0m\n\u001b[1;32m   1319\u001b[0m       \u001b[0;32mreturn\u001b[0m \u001b[0mself\u001b[0m\u001b[0;34m.\u001b[0m\u001b[0m_do_call\u001b[0m\u001b[0;34m(\u001b[0m\u001b[0m_prun_fn\u001b[0m\u001b[0;34m,\u001b[0m \u001b[0mself\u001b[0m\u001b[0;34m.\u001b[0m\u001b[0m_session\u001b[0m\u001b[0;34m,\u001b[0m \u001b[0mhandle\u001b[0m\u001b[0;34m,\u001b[0m \u001b[0mfeeds\u001b[0m\u001b[0;34m,\u001b[0m \u001b[0mfetches\u001b[0m\u001b[0;34m)\u001b[0m\u001b[0;34m\u001b[0m\u001b[0m\n",
      "\u001b[0;32m/media/Showbiz/Code/6.888-project/venv/lib/python3.6/site-packages/tensorflow/python/client/session.py\u001b[0m in \u001b[0;36m_do_call\u001b[0;34m(self, fn, *args)\u001b[0m\n\u001b[1;32m   1321\u001b[0m   \u001b[0;32mdef\u001b[0m \u001b[0m_do_call\u001b[0m\u001b[0;34m(\u001b[0m\u001b[0mself\u001b[0m\u001b[0;34m,\u001b[0m \u001b[0mfn\u001b[0m\u001b[0;34m,\u001b[0m \u001b[0;34m*\u001b[0m\u001b[0margs\u001b[0m\u001b[0;34m)\u001b[0m\u001b[0;34m:\u001b[0m\u001b[0;34m\u001b[0m\u001b[0m\n\u001b[1;32m   1322\u001b[0m     \u001b[0;32mtry\u001b[0m\u001b[0;34m:\u001b[0m\u001b[0;34m\u001b[0m\u001b[0m\n\u001b[0;32m-> 1323\u001b[0;31m       \u001b[0;32mreturn\u001b[0m \u001b[0mfn\u001b[0m\u001b[0;34m(\u001b[0m\u001b[0;34m*\u001b[0m\u001b[0margs\u001b[0m\u001b[0;34m)\u001b[0m\u001b[0;34m\u001b[0m\u001b[0m\n\u001b[0m\u001b[1;32m   1324\u001b[0m     \u001b[0;32mexcept\u001b[0m \u001b[0merrors\u001b[0m\u001b[0;34m.\u001b[0m\u001b[0mOpError\u001b[0m \u001b[0;32mas\u001b[0m \u001b[0me\u001b[0m\u001b[0;34m:\u001b[0m\u001b[0;34m\u001b[0m\u001b[0m\n\u001b[1;32m   1325\u001b[0m       \u001b[0mmessage\u001b[0m \u001b[0;34m=\u001b[0m \u001b[0mcompat\u001b[0m\u001b[0;34m.\u001b[0m\u001b[0mas_text\u001b[0m\u001b[0;34m(\u001b[0m\u001b[0me\u001b[0m\u001b[0;34m.\u001b[0m\u001b[0mmessage\u001b[0m\u001b[0;34m)\u001b[0m\u001b[0;34m\u001b[0m\u001b[0m\n",
      "\u001b[0;32m/media/Showbiz/Code/6.888-project/venv/lib/python3.6/site-packages/tensorflow/python/client/session.py\u001b[0m in \u001b[0;36m_run_fn\u001b[0;34m(session, feed_dict, fetch_list, target_list, options, run_metadata)\u001b[0m\n\u001b[1;32m   1300\u001b[0m           return tf_session.TF_Run(session, options,\n\u001b[1;32m   1301\u001b[0m                                    \u001b[0mfeed_dict\u001b[0m\u001b[0;34m,\u001b[0m \u001b[0mfetch_list\u001b[0m\u001b[0;34m,\u001b[0m \u001b[0mtarget_list\u001b[0m\u001b[0;34m,\u001b[0m\u001b[0;34m\u001b[0m\u001b[0m\n\u001b[0;32m-> 1302\u001b[0;31m                                    status, run_metadata)\n\u001b[0m\u001b[1;32m   1303\u001b[0m \u001b[0;34m\u001b[0m\u001b[0m\n\u001b[1;32m   1304\u001b[0m     \u001b[0;32mdef\u001b[0m \u001b[0m_prun_fn\u001b[0m\u001b[0;34m(\u001b[0m\u001b[0msession\u001b[0m\u001b[0;34m,\u001b[0m \u001b[0mhandle\u001b[0m\u001b[0;34m,\u001b[0m \u001b[0mfeed_dict\u001b[0m\u001b[0;34m,\u001b[0m \u001b[0mfetch_list\u001b[0m\u001b[0;34m)\u001b[0m\u001b[0;34m:\u001b[0m\u001b[0;34m\u001b[0m\u001b[0m\n",
      "\u001b[0;31mKeyboardInterrupt\u001b[0m: "
     ]
    }
   ],
   "source": [
    "sess = tf.Session(graph=dcn_graph)\n",
    "train_loss, train_error, validation_error = train_net(sess, \"blah\", params)"
   ]
  },
  {
   "cell_type": "code",
   "execution_count": null,
   "metadata": {},
   "outputs": [],
   "source": [
    "plt.figure(1)\n",
    "plt.plot(np.arange(train_loss.size)*params['log_interval'], train_loss, 'o')\n",
    "\n",
    "plt.figure(2)\n",
    "plt.plot(np.arange(train_error.size)*params['checkpoint_interval'], train_error, '-o')\n",
    "plt.plot(np.arange(validation_error.size)*params['checkpoint_interval'], validation_error, '-o')\n",
    "\n",
    "print(\"Final Training Accuracy: %g\" % ((1-train_error[-1])*100))\n",
    "print(\"Final Validation Accuracy: %g\" % ((1-validation_error[-1])*100))"
   ]
  },
  {
   "cell_type": "markdown",
   "metadata": {},
   "source": [
    "## Inference graph"
   ]
  },
  {
   "cell_type": "code",
   "execution_count": 3,
   "metadata": {},
   "outputs": [],
   "source": [
    "from tensorflow.python.framework.graph_util import convert_variables_to_constants\n",
    "\n",
    "def checkpoint_to_pb(checkpoint_filename, output_dir, output_filename):\n",
    "    in_graph = tf.Graph()\n",
    "    with tf.Session(graph=in_graph) as sess:\n",
    "        # Restore variables from disk.\n",
    "        saver = tf.train.import_meta_graph(checkpoint_filename+\".meta\")\n",
    "        saver.restore(sess, checkpoint_filename)\n",
    "\n",
    "        out_graph = convert_variables_to_constants(sess, sess.graph.as_graph_def(), [\"inference\"])\n",
    "        tf.train.write_graph(out_graph, output_dir, output_filename, as_text=False)\n",
    "\n",
    "def get_inference_graph(model_filename):\n",
    "    inference_graph = tf.Graph()\n",
    "    with inference_graph.as_default():\n",
    "        with tf.gfile.FastGFile(model_filename, 'rb') as f:\n",
    "            graph_def = tf.GraphDef()\n",
    "            graph_def.ParseFromString(f.read())\n",
    "            _ = tf.import_graph_def(graph_def, name=\"\")\n",
    "            \n",
    "    return inference_graph\n",
    "\n",
    "def export_model_parameters(model_filename):\n",
    "    inference_graph = get_inference_graph(model_filename)\n",
    "    model_parameters = {}\n",
    "    \n",
    "    const_ops = [ op for op in inference_graph.get_operations() if op.type == \"Const\" ]\n",
    "    with tf.Session(graph=inference_graph) as sess:\n",
    "        model_parameters = { op.name: sess.run(op.outputs[0]) for op in const_ops }\n",
    "    return model_parameters\n",
    "\n",
    "def run_inference(model_filename, images, params):\n",
    "    inference_graph = get_inference_graph(model_filename)\n",
    "    images_node = inference_graph.get_operation_by_name('images').outputs[0]\n",
    "#     train_img = inference_graph.get_operation_by_name('mod_img').outputs[0]\n",
    "    inference_node = inference_graph.get_operation_by_name('inference').outputs[0]\n",
    "    \n",
    "    inference = np.zeros((images.shape[0], 10))\n",
    "    num_batches = images.shape[0] // params['batch_size']\n",
    "    \n",
    "    \n",
    "    # Run a single step with \n",
    "    with tf.Session(graph=inference_graph) as sess:   \n",
    "        for step in range(num_batches):\n",
    "            begin = step*params['batch_size']\n",
    "            end = begin + params['batch_size']\n",
    "            feed_dict = { images_node: images[begin:end]}\n",
    "            inference[begin:end] += sess.run(inference_node, feed_dict=feed_dict)\n",
    "    inferred_labels = np.argmax(inference, axis=1)\n",
    "\n",
    "    inferred_labels_one_hot = np.zeros((inferred_labels.shape[0], 10))\n",
    "    inferred_labels_one_hot[np.arange(inferred_labels.shape[0]), inferred_labels] = 1\n",
    "\n",
    "    return inference\n",
    "\n"
   ]
  },
  {
   "cell_type": "code",
   "execution_count": null,
   "metadata": {},
   "outputs": [],
   "source": [
    "checkpoint_to_pb(checkpoint_name, \".\", model_filename)\n",
    "model_parameters = export_model_parameters(model_filename)"
   ]
  },
  {
   "cell_type": "code",
   "execution_count": 6,
   "metadata": {},
   "outputs": [],
   "source": [
    "checkpoint_name = \"%s/best_model.ckpt\" % params['log_dir']\n",
    "model_filename = \"mnist.model.pb\""
   ]
  },
  {
   "cell_type": "code",
   "execution_count": 23,
   "metadata": {
    "scrolled": true
   },
   "outputs": [
    {
     "data": {
      "text/plain": [
       "array([[ 12.88483334,   1.89818001,  -6.01280403, ...,  -5.77380371,\n",
       "         -6.34031343,  -6.647964  ],\n",
       "       [ 12.39700699,   0.67696643,  -5.41423273, ...,  -4.94531631,\n",
       "         -5.80711555,  -6.0858531 ],\n",
       "       [ 12.69307613,   1.37977624,  -5.62784624, ...,  -5.2978158 ,\n",
       "         -5.91984463,  -6.28190136],\n",
       "       ..., \n",
       "       [ 13.50880146,   1.25019026,  -6.16577291, ...,  -5.68382788,\n",
       "         -6.66343212,  -6.83774137],\n",
       "       [ -5.65323639,  24.46416855,  -8.57912254, ...,  -8.18227959,\n",
       "         -7.40164948,  -8.15728569],\n",
       "       [ 14.17021942,   0.5255776 ,  -6.12971401, ...,  -5.89715576,\n",
       "         -6.59779835,  -6.88846874]])"
      ]
     },
     "execution_count": 23,
     "metadata": {},
     "output_type": "execute_result"
    }
   ],
   "source": [
    "run_inference(model_filename, val_img, params)"
   ]
  },
  {
   "cell_type": "code",
   "execution_count": 9,
   "metadata": {},
   "outputs": [],
   "source": [
    "from quadtree import Board\n",
    "import tensorflow as tf\n",
    "from model import DCGAN\n",
    "import numpy as np\n",
    "import os\n",
    "from mcts_alphaZero import Game\n",
    "\n",
    "import matplotlib.pyplot as plt\n",
    "%matplotlib inline\n",
    "%load_ext autoreload\n",
    "%autoreload 2"
   ]
  },
  {
   "cell_type": "code",
   "execution_count": 10,
   "metadata": {},
   "outputs": [],
   "source": [
    "def show(img):\n",
    "    plt.figure()\n",
    "    plt.imshow(img, cmap=\"Greys_r\",vmin=0, vmax=255)"
   ]
  },
  {
   "cell_type": "code",
   "execution_count": 11,
   "metadata": {},
   "outputs": [],
   "source": [
    "def policy_wrapper(board):\n",
    "    samples = np.ones((50,28,28,1))\n",
    "    samples[:,:,:,0] = board.data/255.\n",
    "\n",
    "    r = run_inference(model_filename, samples, params)\n",
    "    return np.mean(r[:,0] - r[:,1]), 0"
   ]
  },
  {
   "cell_type": "code",
   "execution_count": 13,
   "metadata": {},
   "outputs": [
    {
     "name": "stdout",
     "output_type": "stream",
     "text": [
      "6.43855667114\n"
     ]
    }
   ],
   "source": [
    "image = Board(28,28)\n",
    "game = Game(policy_wrapper, .1, 10)\n",
    "print(policy_wrapper(image)[0])"
   ]
  },
  {
   "cell_type": "code",
   "execution_count": 14,
   "metadata": {
    "scrolled": true
   },
   "outputs": [
    {
     "name": "stdout",
     "output_type": "stream",
     "text": [
      "6.43855667114\n",
      "-7.72248959541\n",
      "-19.071429491\n",
      "-19.650223732\n",
      "-24.5525074005\n",
      "-24.6727104187\n",
      "-33.4028339386\n",
      "-33.7350692749\n",
      "-34.2550735474\n",
      "-34.5248641968\n",
      "-36.5071992874\n",
      "-35.8124580383\n",
      "-35.8619413376\n",
      "-35.2482738495\n",
      "-35.0790281296\n",
      "-34.4966373444\n",
      "-34.675942421\n",
      "-34.7231197357\n"
     ]
    },
    {
     "data": {
      "image/png": "[encoded data removed]",
      "text/plain": [
       "<matplotlib.figure.Figure at 0x7fa91c57a240>"
      ]
     },
     "metadata": {},
     "output_type": "display_data"
    },
    {
     "data": {
      "image/png": "[encoded data removed]",
      "text/plain": [
       "<matplotlib.figure.Figure at 0x7fa9184e8550>"
      ]
     },
     "metadata": {},
     "output_type": "display_data"
    },
    {
     "data": {
      "image/png": "[encoded data removed]",
      "text/plain": [
       "<matplotlib.figure.Figure at 0x7fa91cc2e5f8>"
      ]
     },
     "metadata": {},
     "output_type": "display_data"
    },
    {
     "data": {
      "image/png": "[encoded data removed]",
      "text/plain": [
       "<matplotlib.figure.Figure at 0x7fa9182c1048>"
      ]
     },
     "metadata": {},
     "output_type": "display_data"
    },
    {
     "data": {
      "image/png": "[encoded data removed]",
      "text/plain": [
       "<matplotlib.figure.Figure at 0x7fa918549a58>"
      ]
     },
     "metadata": {},
     "output_type": "display_data"
    },
    {
     "data": {
      "image/png": "[encoded data removed]",
      "text/plain": [
       "<matplotlib.figure.Figure at 0x7fa91c5eb0f0>"
      ]
     },
     "metadata": {},
     "output_type": "display_data"
    },
    {
     "data": {
      "image/png": "[encoded data removed]",
      "text/plain": [
       "<matplotlib.figure.Figure at 0x7fa91811bdd8>"
      ]
     },
     "metadata": {},
     "output_type": "display_data"
    },
    {
     "data": {
      "image/png": "[encoded data removed]",
      "text/plain": [
       "<matplotlib.figure.Figure at 0x7fa91c594400>"
      ]
     },
     "metadata": {},
     "output_type": "display_data"
    },
    {
     "data": {
      "image/png": "[encoded data removed]",
      "text/plain": [
       "<matplotlib.figure.Figure at 0x7fa91833d7f0>"
      ]
     },
     "metadata": {},
     "output_type": "display_data"
    },
    {
     "data": {
      "image/png": "[encoded data removed]",
      "text/plain": [
       "<matplotlib.figure.Figure at 0x7fa95eb79a90>"
      ]
     },
     "metadata": {},
     "output_type": "display_data"
    },
    {
     "data": {
      "image/png": "[encoded data removed]",
      "text/plain": [
       "<matplotlib.figure.Figure at 0x7fa91838d5c0>"
      ]
     },
     "metadata": {},
     "output_type": "display_data"
    },
    {
     "data": {
      "image/png": "[encoded data removed]",
      "text/plain": [
       "<matplotlib.figure.Figure at 0x7fa91814fef0>"
      ]
     },
     "metadata": {},
     "output_type": "display_data"
    },
    {
     "data": {
      "image/png": "[encoded data removed]",
      "text/plain": [
       "<matplotlib.figure.Figure at 0x7fa9184f2a90>"
      ]
     },
     "metadata": {},
     "output_type": "display_data"
    },
    {
     "data": {
      "image/png": "[encoded data removed]",
      "text/plain": [
       "<matplotlib.figure.Figure at 0x7fa9104f8ba8>"
      ]
     },
     "metadata": {},
     "output_type": "display_data"
    },
    {
     "data": {
      "image/png": "[encoded data removed]",
      "text/plain": [
       "<matplotlib.figure.Figure at 0x7fa9116bd358>"
      ]
     },
     "metadata": {},
     "output_type": "display_data"
    },
    {
     "data": {
      "image/png": "[encoded data removed]",
      "text/plain": [
       "<matplotlib.figure.Figure at 0x7fa918080550>"
      ]
     },
     "metadata": {},
     "output_type": "display_data"
    },
    {
     "data": {
      "image/png": "[encoded data removed]",
      "text/plain": [
       "<matplotlib.figure.Figure at 0x7fa9102d5710>"
      ]
     },
     "metadata": {},
     "output_type": "display_data"
    },
    {
     "data": {
      "image/png": "[encoded data removed]",
      "text/plain": [
       "<matplotlib.figure.Figure at 0x7fa918087e48>"
      ]
     },
     "metadata": {},
     "output_type": "display_data"
    }
   ],
   "source": [
    "for i in range(18):\n",
    "    print(policy_wrapper(image)[0])\n",
    "    game.step(image)\n",
    "    show(image.data)\n",
    "    plt.savefig(\"tmp/anim{}.png\".format(i))"
   ]
  },
  {
   "cell_type": "code",
   "execution_count": null,
   "metadata": {},
   "outputs": [],
   "source": [
    "plt.imshow(val_img[5,:,:,0], vmin=0, vmax=1)"
   ]
  },
  {
   "cell_type": "code",
   "execution_count": null,
   "metadata": {},
   "outputs": [],
   "source": [
    "val_labels[:30]"
   ]
  },
  {
   "cell_type": "code",
   "execution_count": null,
   "metadata": {},
   "outputs": [],
   "source": []
  }
 ],
 "metadata": {
  "kernelspec": {
   "display_name": "Python 3",
   "language": "python",
   "name": "python3"
  },
  "language_info": {
   "codemirror_mode": {
    "name": "ipython",
    "version": 3
   },
   "file_extension": ".py",
   "mimetype": "text/x-python",
   "name": "python",
   "nbconvert_exporter": "python",
   "pygments_lexer": "ipython3",
   "version": "3.6.3"
  }
 },
 "nbformat": 4,
 "nbformat_minor": 2
}
