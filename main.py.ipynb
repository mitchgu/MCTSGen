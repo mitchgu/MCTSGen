{
 "cells": [
  {
   "cell_type": "code",
   "execution_count": 1,
   "metadata": {},
   "outputs": [
    {
     "name": "stderr",
     "output_type": "stream",
     "text": [
      "/home/mitchgu/.pyenv/versions/3.6.3/lib/python3.6/importlib/_bootstrap.py:219: RuntimeWarning: compiletime version 3.5 of module 'tensorflow.python.framework.fast_tensor_util' does not match runtime version 3.6\n",
      "  return f(*args, **kwds)\n"
     ]
    }
   ],
   "source": [
    "from quadtree import Board\n",
    "import tensorflow as tf\n",
    "from model import DCGAN\n",
    "import numpy as np\n",
    "import os\n",
    "from mcts_alphaZero import Game\n",
    "\n",
    "import matplotlib.pyplot as plt\n",
    "%matplotlib inline\n",
    "%load_ext autoreload\n",
    "%autoreload 2"
   ]
  },
  {
   "cell_type": "code",
   "execution_count": 2,
   "metadata": {},
   "outputs": [],
   "source": [
    "def show(img):\n",
    "    plt.figure()\n",
    "    plt.imshow(img, cmap=\"Greys_r\",vmin=0, vmax=255)"
   ]
  },
  {
   "cell_type": "code",
   "execution_count": 3,
   "metadata": {
    "scrolled": true
   },
   "outputs": [],
   "source": [
    "sess = tf.Session()\n",
    "# Create DCGAN model\n",
    "dcgan = DCGAN(sess)"
   ]
  },
  {
   "cell_type": "code",
   "execution_count": 4,
   "metadata": {},
   "outputs": [
    {
     "name": "stdout",
     "output_type": "stream",
     "text": [
      "WARNING:tensorflow:From /media/Showbiz/Code/6.888-project/venv/lib/python3.6/site-packages/tensorflow/python/util/tf_should_use.py:107: initialize_all_variables (from tensorflow.python.ops.variables) is deprecated and will be removed after 2017-03-02.\n",
      "Instructions for updating:\n",
      "Use `tf.global_variables_initializer` instead.\n"
     ]
    }
   ],
   "source": [
    "tf.initialize_all_variables().run(session=sess)"
   ]
  },
  {
   "cell_type": "code",
   "execution_count": 5,
   "metadata": {},
   "outputs": [],
   "source": [
    "def policy_wrapper(board):\n",
    "    samples = np.ones((1,28,28,1))\n",
    "    samples[:,:,:,0] = board.data\n",
    "    samples_y = np.zeros(1, dtype=np.uint8) \n",
    "    samples_y = np.random.choice(10, 1).astype(np.uint8)\n",
    "\n",
    "    v, grad = dcgan.run_policy(samples, samples_y) # returns real/fake value and gradients\n",
    "    return 2*np.mean(v)-1, 0# np.mean(grad[0])"
   ]
  },
  {
   "cell_type": "code",
   "execution_count": null,
   "metadata": {
    "scrolled": true
   },
   "outputs": [
    {
     "name": "stdout",
     "output_type": "stream",
     "text": [
      "-0.00432044267654\n"
     ]
    }
   ],
   "source": [
    "image = Board(28,28)\n",
    "game = Game(policy_wrapper, 1, 10)\n",
    "print(policy_wrapper(image)[0])"
   ]
  },
  {
   "cell_type": "code",
   "execution_count": null,
   "metadata": {
    "scrolled": false
   },
   "outputs": [
    {
     "name": "stdout",
     "output_type": "stream",
     "text": [
      "0.0154023170471\n",
      "-0.0170814990997\n",
      "-0.00432044267654\n",
      "-0.00745970010757\n",
      "-0.00740885734558\n",
      "-0.00332820415497\n",
      "-0.00947469472885\n",
      "-0.000924468040466\n",
      "-0.00332820415497\n",
      "-0.00332820415497\n"
     ]
    }
   ],
   "source": [
    "dataset_size = 1000\n",
    "generation = np.zeros((dataset_size, 28, 28, 1), dtype=np.uint8)\n",
    "\n",
    "for n in range(dataset_size):\n",
    "    image = Board(28,28)\n",
    "    game = Game(policy_wrapper, 1, 10)\n",
    "    for i in range(50):\n",
    "#         print(policy_wrapper(image)[0])\n",
    "        game.step(image)\n",
    "    print(policy_wrapper(image)[0])\n",
    "    generation[n,:,:,0] = image.data"
   ]
  },
  {
   "cell_type": "code",
   "execution_count": null,
   "metadata": {},
   "outputs": [],
   "source": []
  }
 ],
 "metadata": {
  "kernelspec": {
   "display_name": "Python 3",
   "language": "python",
   "name": "python3"
  },
  "language_info": {
   "codemirror_mode": {
    "name": "ipython",
    "version": 3
   },
   "file_extension": ".py",
   "mimetype": "text/x-python",
   "name": "python",
   "nbconvert_exporter": "python",
   "pygments_lexer": "ipython3",
   "version": "3.6.3"
  }
 },
 "nbformat": 4,
 "nbformat_minor": 2
}
