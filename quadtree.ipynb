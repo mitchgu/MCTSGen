{
 "cells": [
  {
   "cell_type": "code",
   "execution_count": 78,
   "metadata": {
    "scrolled": true
   },
   "outputs": [
    {
     "name": "stdout",
     "output_type": "stream",
     "text": [
      "The autoreload extension is already loaded. To reload it, use:\n",
      "  %reload_ext autoreload\n"
     ]
    }
   ],
   "source": [
    "from quadtree import Board\n",
    "\n",
    "import matplotlib.pyplot as plt\n",
    "%matplotlib inline\n",
    "%load_ext autoreload\n",
    "%autoreload 2"
   ]
  },
  {
   "cell_type": "code",
   "execution_count": 2,
   "metadata": {},
   "outputs": [],
   "source": [
    "def show(img):\n",
    "#     plt.figure()\n",
    "    plt.imshow(img, cmap=\"Greys_r\")"
   ]
  },
  {
   "cell_type": "code",
   "execution_count": 79,
   "metadata": {
    "scrolled": true
   },
   "outputs": [
    {
     "data": {
      "image/png": "[encoded data removed]",
      "text/plain": [
       "<matplotlib.figure.Figure at 0x7fb3b4fa62e8>"
      ]
     },
     "metadata": {},
     "output_type": "display_data"
    }
   ],
   "source": [
    "image = Board(28, 28)\n",
    "for i in range(64):\n",
    "    image.update_random()\n",
    "show(image.data)\n",
    "#     plt.savefig(\"tmp/anim{}.png\".format(i))"
   ]
  },
  {
   "cell_type": "code",
   "execution_count": 14,
   "metadata": {},
   "outputs": [
    {
     "name": "stdout",
     "output_type": "stream",
     "text": [
      "12.7 µs ± 68.2 ns per loop (mean ± std. dev. of 7 runs, 100000 loops each)\n"
     ]
    }
   ],
   "source": [
    "%timeit image.get_actions()"
   ]
  },
  {
   "cell_type": "code",
   "execution_count": 24,
   "metadata": {},
   "outputs": [
    {
     "name": "stdout",
     "output_type": "stream",
     "text": [
      "9.32 µs ± 63.3 ns per loop (mean ± std. dev. of 7 runs, 100000 loops each)\n"
     ]
    }
   ],
   "source": [
    "\n",
    "def test():\n",
    "    im = image.copy()\n",
    "    im.update(((0,0), 0))\n",
    "%timeit test()"
   ]
  },
  {
   "cell_type": "code",
   "execution_count": 22,
   "metadata": {},
   "outputs": [
    {
     "data": {
      "text/plain": [
       "[(((0, 0), 0), 0.005747126436781609),\n",
       " (((0, 0), 1), 0.005747126436781609),\n",
       " (((0, 0), 2), 0.005747126436781609),\n",
       " (((0, 0), 3), 0.005747126436781609),\n",
       " (((0, 0), 4), 0.005747126436781609),\n",
       " (((0, 14), 0), 0.005747126436781609),\n",
       " (((0, 14), 1), 0.005747126436781609),\n",
       " (((0, 14), 2), 0.005747126436781609),\n",
       " (((0, 14), 3), 0.005747126436781609),\n",
       " (((0, 14), 4), 0.005747126436781609),\n",
       " (((14, 0), 0), 0.005747126436781609),\n",
       " (((14, 14), 0), 0.005747126436781609),\n",
       " (((14, 21), 0), 0.005747126436781609),\n",
       " (((21, 14), 0), 0.005747126436781609),\n",
       " (((21, 14), 1), 0.005747126436781609),\n",
       " (((21, 14), 2), 0.005747126436781609),\n",
       " (((21, 14), 3), 0.005747126436781609),\n",
       " (((21, 14), 4), 0.005747126436781609),\n",
       " (((21, 21), 0), 0.005747126436781609),\n",
       " (((21, 0), 0), 0.005747126436781609),\n",
       " (((21, 7), 0), 0.005747126436781609),\n",
       " (((14, 17), 0), 0.005747126436781609),\n",
       " (((17, 14), 0), 0.005747126436781609),\n",
       " (((17, 17), 0), 0.005747126436781609),\n",
       " (((21, 3), 0), 0.005747126436781609),\n",
       " (((24, 3), 0), 0.005747126436781609),\n",
       " (((0, 7), 0), 0.005747126436781609),\n",
       " (((0, 7), 1), 0.005747126436781609),\n",
       " (((0, 7), 2), 0.005747126436781609),\n",
       " (((0, 7), 3), 0.005747126436781609),\n",
       " (((0, 7), 4), 0.005747126436781609),\n",
       " (((7, 0), 0), 0.005747126436781609),\n",
       " (((7, 0), 1), 0.005747126436781609),\n",
       " (((7, 0), 2), 0.005747126436781609),\n",
       " (((7, 0), 3), 0.005747126436781609),\n",
       " (((7, 0), 4), 0.005747126436781609),\n",
       " (((0, 21), 0), 0.005747126436781609),\n",
       " (((7, 14), 0), 0.005747126436781609),\n",
       " (((7, 14), 1), 0.005747126436781609),\n",
       " (((7, 14), 2), 0.005747126436781609),\n",
       " (((7, 14), 3), 0.005747126436781609),\n",
       " (((7, 14), 4), 0.005747126436781609),\n",
       " (((7, 21), 0), 0.005747126436781609),\n",
       " (((0, 24), 0), 0.005747126436781609),\n",
       " (((3, 21), 0), 0.005747126436781609),\n",
       " (((3, 24), 1), 0.005747126436781609),\n",
       " (((3, 24), 2), 0.005747126436781609),\n",
       " (((3, 24), 3), 0.005747126436781609),\n",
       " (((3, 24), 4), 0.005747126436781609),\n",
       " (((14, 3), 0), 0.005747126436781609),\n",
       " (((17, 0), 0), 0.005747126436781609),\n",
       " (((17, 3), 0), 0.005747126436781609),\n",
       " (((21, 17), 0), 0.005747126436781609),\n",
       " (((24, 14), 0), 0.005747126436781609),\n",
       " (((24, 17), 0), 0.005747126436781609),\n",
       " (((21, 4), 0), 0.005747126436781609),\n",
       " (((22, 3), 0), 0.005747126436781609),\n",
       " (((21, 10), 0), 0.005747126436781609),\n",
       " (((24, 7), 0), 0.005747126436781609),\n",
       " (((24, 10), 1), 0.005747126436781609),\n",
       " (((24, 10), 2), 0.005747126436781609),\n",
       " (((24, 10), 3), 0.005747126436781609),\n",
       " (((24, 10), 4), 0.005747126436781609),\n",
       " (((14, 24), 0), 0.005747126436781609),\n",
       " (((14, 24), 1), 0.005747126436781609),\n",
       " (((14, 24), 2), 0.005747126436781609),\n",
       " (((14, 24), 3), 0.005747126436781609),\n",
       " (((14, 24), 4), 0.005747126436781609),\n",
       " (((17, 21), 0), 0.005747126436781609),\n",
       " (((17, 24), 0), 0.005747126436781609),\n",
       " (((17, 1), 0), 0.005747126436781609),\n",
       " (((18, 0), 0), 0.005747126436781609),\n",
       " (((3, 22), 0), 0.005747126436781609),\n",
       " (((14, 4), 0), 0.005747126436781609),\n",
       " (((0, 22), 0), 0.005747126436781609),\n",
       " (((18, 21), 0), 0.005747126436781609),\n",
       " (((25, 7), 0), 0.005747126436781609),\n",
       " (((14, 22), 0), 0.005747126436781609),\n",
       " (((15, 21), 0), 0.005747126436781609),\n",
       " (((7, 10), 0), 0.005747126436781609),\n",
       " (((7, 10), 1), 0.005747126436781609),\n",
       " (((7, 10), 2), 0.005747126436781609),\n",
       " (((7, 10), 3), 0.005747126436781609),\n",
       " (((7, 10), 4), 0.005747126436781609),\n",
       " (((10, 7), 0), 0.005747126436781609),\n",
       " (((10, 10), 1), 0.005747126436781609),\n",
       " (((10, 10), 2), 0.005747126436781609),\n",
       " (((10, 10), 3), 0.005747126436781609),\n",
       " (((10, 10), 4), 0.005747126436781609),\n",
       " (((7, 8), 0), 0.005747126436781609),\n",
       " (((8, 7), 0), 0.005747126436781609),\n",
       " (((14, 1), 0), 0.005747126436781609),\n",
       " (((14, 15), 0), 0.005747126436781609),\n",
       " (((15, 14), 0), 0.005747126436781609),\n",
       " (((14, 18), 0), 0.005747126436781609),\n",
       " (((21, 18), 0), 0.005747126436781609),\n",
       " (((22, 17), 0), 0.005747126436781609),\n",
       " (((24, 4), 0), 0.005747126436781609),\n",
       " (((17, 25), 0), 0.005747126436781609),\n",
       " (((18, 24), 0), 0.005747126436781609),\n",
       " (((22, 0), 0), 0.005747126436781609),\n",
       " (((18, 3), 0), 0.005747126436781609),\n",
       " (((7, 24), 0), 0.005747126436781609),\n",
       " (((10, 21), 0), 0.005747126436781609),\n",
       " (((10, 24), 1), 0.005747126436781609),\n",
       " (((10, 24), 2), 0.005747126436781609),\n",
       " (((10, 24), 3), 0.005747126436781609),\n",
       " (((10, 24), 4), 0.005747126436781609),\n",
       " (((24, 1), 0), 0.005747126436781609),\n",
       " (((25, 0), 0), 0.005747126436781609),\n",
       " (((24, 18), 0), 0.005747126436781609),\n",
       " (((25, 17), 0), 0.005747126436781609),\n",
       " (((17, 15), 0), 0.005747126436781609),\n",
       " (((18, 14), 0), 0.005747126436781609),\n",
       " (((21, 8), 0), 0.005747126436781609),\n",
       " (((22, 7), 0), 0.005747126436781609),\n",
       " (((7, 25), 0), 0.005747126436781609),\n",
       " (((8, 24), 0), 0.005747126436781609),\n",
       " (((7, 22), 0), 0.005747126436781609),\n",
       " (((8, 21), 0), 0.005747126436781609),\n",
       " (((21, 11), 0), 0.005747126436781609),\n",
       " (((22, 10), 0), 0.005747126436781609),\n",
       " (((14, 10), 0), 0.005747126436781609),\n",
       " (((17, 7), 0), 0.005747126436781609),\n",
       " (((17, 7), 1), 0.005747126436781609),\n",
       " (((17, 7), 2), 0.005747126436781609),\n",
       " (((17, 7), 3), 0.005747126436781609),\n",
       " (((17, 7), 4), 0.005747126436781609),\n",
       " (((17, 10), 1), 0.005747126436781609),\n",
       " (((17, 10), 2), 0.005747126436781609),\n",
       " (((17, 10), 3), 0.005747126436781609),\n",
       " (((17, 10), 4), 0.005747126436781609),\n",
       " (((10, 22), 0), 0.005747126436781609),\n",
       " (((11, 21), 0), 0.005747126436781609),\n",
       " (((0, 3), 0), 0.005747126436781609),\n",
       " (((0, 3), 1), 0.005747126436781609),\n",
       " (((0, 3), 2), 0.005747126436781609),\n",
       " (((0, 3), 3), 0.005747126436781609),\n",
       " (((0, 3), 4), 0.005747126436781609),\n",
       " (((3, 0), 0), 0.005747126436781609),\n",
       " (((3, 0), 1), 0.005747126436781609),\n",
       " (((3, 0), 2), 0.005747126436781609),\n",
       " (((3, 0), 3), 0.005747126436781609),\n",
       " (((3, 0), 4), 0.005747126436781609),\n",
       " (((3, 3), 1), 0.005747126436781609),\n",
       " (((3, 3), 2), 0.005747126436781609),\n",
       " (((3, 3), 3), 0.005747126436781609),\n",
       " (((3, 3), 4), 0.005747126436781609),\n",
       " (((10, 8), 0), 0.005747126436781609),\n",
       " (((11, 7), 0), 0.005747126436781609),\n",
       " (((14, 8), 0), 0.005747126436781609),\n",
       " (((15, 7), 0), 0.005747126436781609),\n",
       " (((17, 18), 0), 0.005747126436781609),\n",
       " (((18, 17), 0), 0.005747126436781609),\n",
       " (((24, 15), 0), 0.005747126436781609),\n",
       " (((25, 14), 0), 0.005747126436781609),\n",
       " (((14, 11), 0), 0.005747126436781609),\n",
       " (((15, 10), 0), 0.005747126436781609),\n",
       " (((21, 24), 0), 0.005747126436781609),\n",
       " (((21, 24), 1), 0.005747126436781609),\n",
       " (((21, 24), 2), 0.005747126436781609),\n",
       " (((21, 24), 3), 0.005747126436781609),\n",
       " (((21, 24), 4), 0.005747126436781609),\n",
       " (((24, 21), 0), 0.005747126436781609),\n",
       " (((24, 21), 1), 0.005747126436781609),\n",
       " (((24, 21), 2), 0.005747126436781609),\n",
       " (((24, 21), 3), 0.005747126436781609),\n",
       " (((24, 21), 4), 0.005747126436781609),\n",
       " (((24, 24), 1), 0.005747126436781609),\n",
       " (((24, 24), 2), 0.005747126436781609),\n",
       " (((24, 24), 3), 0.005747126436781609),\n",
       " (((24, 24), 4), 0.005747126436781609),\n",
       " (((21, 22), 0), 0.005747126436781609),\n",
       " (((22, 21), 0), 0.005747126436781609)]"
      ]
     },
     "execution_count": 22,
     "metadata": {},
     "output_type": "execute_result"
    }
   ],
   "source": [
    "image.get_actions()"
   ]
  },
  {
   "cell_type": "code",
   "execution_count": null,
   "metadata": {},
   "outputs": [],
   "source": [
    "len(image.nodes)"
   ]
  },
  {
   "cell_type": "code",
   "execution_count": 5,
   "metadata": {},
   "outputs": [
    {
     "name": "stdout",
     "output_type": "stream",
     "text": [
      "4.73 µs ± 18.3 ns per loop (mean ± std. dev. of 7 runs, 100000 loops each)\n"
     ]
    }
   ],
   "source": [
    "import copy\n",
    "%timeit image.copy()"
   ]
  },
  {
   "cell_type": "code",
   "execution_count": 29,
   "metadata": {},
   "outputs": [],
   "source": [
    "from mcts_alphaZero import Game, bs_policy_value_function"
   ]
  },
  {
   "cell_type": "code",
   "execution_count": 73,
   "metadata": {},
   "outputs": [],
   "source": [
    "image = Board(28,28)\n",
    "game = Game(bs_policy_value_function)"
   ]
  },
  {
   "cell_type": "code",
   "execution_count": 76,
   "metadata": {},
   "outputs": [
    {
     "name": "stdout",
     "output_type": "stream",
     "text": [
      "((7, 21), 3)\n",
      "((0, 14), 0)\n",
      "((10, 21), 1)\n",
      "((14, 0), 0)\n",
      "((0, 0), 1)\n",
      "((0, 0), 1)\n",
      "((14, 14), 0)\n",
      "((0, 0), 1)\n",
      "((14, 0), 3)\n",
      "((14, 0), 0)\n",
      "((14, 14), 1)\n",
      "((10, 24), 0)\n",
      "((0, 21), 3)\n",
      "((21, 21), 1)\n",
      "((0, 21), 1)\n",
      "((14, 7), 3)\n",
      "((21, 0), 3)\n",
      "((24, 21), 4)\n",
      "((14, 14), 1)\n",
      "((21, 21), 2)\n",
      "((17, 7), 3)\n",
      "((24, 22), 0)\n",
      "((7, 24), 1)\n",
      "((3, 24), 4)\n",
      "((21, 14), 3)\n",
      "((24, 24), 4)\n",
      "((3, 3), 2)\n",
      "((24, 21), 0)\n",
      "((1, 1), 0)\n",
      "((14, 14), 4)\n"
     ]
    },
    {
     "data": {
      "image/png": "[encoded data removed]",
      "text/plain": [
       "<matplotlib.figure.Figure at 0x7fb3b8b35828>"
      ]
     },
     "metadata": {},
     "output_type": "display_data"
    }
   ],
   "source": [
    "for i in range(30):\n",
    "    game.step(image)\n",
    "    show(image.data)"
   ]
  },
  {
   "cell_type": "code",
   "execution_count": null,
   "metadata": {},
   "outputs": [],
   "source": []
  }
 ],
 "metadata": {
  "kernelspec": {
   "display_name": "Python 3",
   "language": "python",
   "name": "python3"
  },
  "language_info": {
   "codemirror_mode": {
    "name": "ipython",
    "version": 3
   },
   "file_extension": ".py",
   "mimetype": "text/x-python",
   "name": "python",
   "nbconvert_exporter": "python",
   "pygments_lexer": "ipython3",
   "version": "3.6.3"
  }
 },
 "nbformat": 4,
 "nbformat_minor": 2
}
